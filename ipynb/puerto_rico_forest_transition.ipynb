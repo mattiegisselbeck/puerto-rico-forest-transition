{
 "cells": [
  {
   "cell_type": "markdown",
   "metadata": {},
   "source": [
    "Title: Examining Puerto Rico’s Forest Transition with Tree Cover Prediction Models `puerto-rico-forest-transition`\n",
    "\n",
    "Author(s): Mattie Gisselbeck"
   ]
  },
  {
   "attachments": {},
   "cell_type": "markdown",
   "metadata": {},
   "source": [
    "**Abstract**"
   ]
  },
  {
   "cell_type": "markdown",
   "source": [
    "Methods\n",
    "- Random Forest Model\n",
    "- Exploratory Regression\n",
    "- Hot Spot Analysis\n",
    "- Generalized Linear Regression (GLR)\n",
    "- Spatial Autocorrelation (Global Moran's I)"
   ],
   "metadata": {
    "collapsed": false
   }
  },
  {
   "cell_type": "code",
   "execution_count": 15,
   "outputs": [],
   "source": [
    "import pandas as pd\n",
    "from sklearn.metrics import mean_squared_error, r2_score\n",
    "from sklearn.model_selection import train_test_split\n",
    "import matplotlib.pyplot as plt\n",
    "from scipy import stats\n",
    "import statsmodels.api as sm\n",
    "import numpy as np\n",
    "\n",
    "\n",
    "from sklearn.metrics import r2_score\n",
    "from sklearn.model_selection import cross_val_score, train_test_split\n",
    "from sklearn.linear_model import LinearRegression, Lasso, Ridge\n",
    "from sklearn.tree import DecisionTreeRegressor\n",
    "from sklearn.ensemble import RandomForestRegressor\n",
    "from xgboost import XGBRegressor\n",
    "\n",
    "\n",
    "import os\n",
    "os.environ['USE_PYGEOS'] = '0'\n",
    "import geopandas as gpd"
   ],
   "metadata": {
    "collapsed": false
   }
  },
  {
   "cell_type": "code",
   "execution_count": null,
   "outputs": [],
   "source": [
    "# Define Paths"
   ],
   "metadata": {
    "collapsed": false
   }
  },
  {
   "cell_type": "markdown",
   "source": [
    "# Methods"
   ],
   "metadata": {
    "collapsed": false
   }
  },
  {
   "cell_type": "markdown",
   "source": [
    "1.1 Exploratory Regression `arcpy`\n",
    "\n",
    "Exploratory Regression was performed to analyze the relationship between forest cover and variables (precipitation, soil productivity, population, protection level, poverty, slope)."
   ],
   "metadata": {
    "collapsed": false
   }
  },
  {
   "cell_type": "code",
   "execution_count": null,
   "outputs": [],
   "source": [
    "# Perform Exploratory Regression\n",
    "arcpy.stats.ExploratoryRegression(\n",
    "    Input_Features=\"PuertoRico_1km\",\n",
    "    Dependent_Variable=\"ForestCover\",\n",
    "    Candidate_Explanatory_Variables=\"Precipitation;SoilProductivity;Population;PercentPoverty;Slope\",\n",
    "    Weights_Matrix_File=None,\n",
    "    Output_Report_File=r\"\\\\Mac\\Home\\Desktop\\OutputReportFile.txt\",\n",
    "    Output_Results_Table=r\"\\\\Mac\\Home\\Desktop\\OutputResultsTable\",\n",
    "    Maximum_Number_of_Explanatory_Variables=5,\n",
    "    Minimum_Number_of_Explanatory_Variables=1,\n",
    "    Minimum_Acceptable_Adj_R_Squared=0.5,\n",
    "    Maximum_Coefficient_p_value_Cutoff=0.05,\n",
    "    Maximum_VIF_Value_Cutoff=7.5,\n",
    "    Minimum_Acceptable_Jarque_Bera_p_value=0.1,\n",
    "    Minimum_Acceptable_Spatial_Autocorrelation_p_value=0.1\n",
    ")"
   ],
   "metadata": {
    "collapsed": false
   }
  },
  {
   "cell_type": "markdown",
   "source": [
    "1.1.r Results"
   ],
   "metadata": {
    "collapsed": false
   }
  },
  {
   "cell_type": "code",
   "execution_count": 5,
   "outputs": [
    {
     "name": "stdout",
     "output_type": "stream",
     "text": [
      "******************************************************************************\n",
      "Choose 1 of 5 Summary\n",
      "         Highest Adjusted R-Squared Results        \n",
      "AdjR2     AICc   JB K(BP)  VIF   SA   Model              \n",
      " 0.60 73140.14 0.00  0.30 1.00 0.00  +SLOPE***           \n",
      " 0.47 75459.77 0.00  0.59 1.00 0.00  -SOILPRODUCTIVITY***\n",
      " 0.24 78542.33 0.00  0.00 1.00 0.00  +PRECIPITATION***   \n",
      "       Passing Models       \n",
      "AdjR2 AICc JB K(BP) VIF SA   Model\n",
      "******************************************************************************\n",
      "Choose 2 of 5 Summary\n",
      "              Highest Adjusted R-Squared Results              \n",
      "AdjR2     AICc   JB K(BP)  VIF   SA   Model                         \n",
      " 0.63 72350.21 0.00  0.00 2.05 0.00  -SOILPRODUCTIVITY***  +SLOPE***\n",
      " 0.63 72408.17 0.00  0.00 1.18 0.00  -POPULATION***  +SLOPE***      \n",
      " 0.62 72600.18 0.00  0.00 1.25 0.00  +PRECIPITATION***  +SLOPE***   \n",
      "       Passing Models       \n",
      "AdjR2 AICc JB K(BP) VIF SA   Model\n",
      "******************************************************************************\n",
      "Choose 3 of 5 Summary\n",
      "                        Highest Adjusted R-Squared Results                       \n",
      "AdjR2     AICc   JB K(BP)  VIF   SA   Model                                            \n",
      " 0.66 71627.31 0.00  0.00 2.18 0.00  -SOILPRODUCTIVITY***  -POPULATION***  +SLOPE***   \n",
      " 0.66 71804.80 0.00  0.00 1.43 0.00  +PRECIPITATION***  -POPULATION***  +SLOPE***      \n",
      " 0.65 71925.54 0.00  0.00 2.18 0.00  +PRECIPITATION***  -SOILPRODUCTIVITY***  +SLOPE***\n",
      "       Passing Models       \n",
      "AdjR2 AICc JB K(BP) VIF SA   Model\n",
      "******************************************************************************\n",
      "Choose 4 of 5 Summary\n",
      "                                Highest Adjusted R-Squared Results                               \n",
      "AdjR2     AICc   JB K(BP)  VIF   SA   Model                                                            \n",
      " 0.68 71143.78 0.00  0.00 2.32 0.00  +PRECIPITATION***  -SOILPRODUCTIVITY***  -POPULATION***  +SLOPE***\n",
      " 0.66 71628.38 0.00  0.00 2.26 0.00  -SOILPRODUCTIVITY***  -POPULATION***  +PERCENTPOVERTY  +SLOPE***  \n",
      " 0.66 71798.40 0.00  0.00 1.52 0.00  +PRECIPITATION***  -POPULATION***  +PERCENTPOVERTY***  +SLOPE***  \n",
      "       Passing Models       \n",
      "AdjR2 AICc JB K(BP) VIF SA   Model\n",
      "******************************************************************************\n",
      "Choose 5 of 5 Summary\n",
      "                                          Highest Adjusted R-Squared Results                                         \n",
      "AdjR2     AICc   JB K(BP)  VIF   SA   Model                                                                                \n",
      " 0.68 71127.55 0.00  0.00 2.44 0.00  +PRECIPITATION***  -SOILPRODUCTIVITY***  -POPULATION***  +PERCENTPOVERTY***  +SLOPE***\n",
      "       Passing Models       \n",
      "AdjR2 AICc JB K(BP) VIF SA   Model\n",
      "******************************************************************************\n",
      "************ Exploratory Regression Global Summary (FORESTCOVER) *************\n",
      "\n",
      "              Percentage of Search Criteria Passed             \n",
      "Search Criterion                    Cutoff Trials # Passed % Passed\n",
      "Min Adjusted R-Squared              > 0.50     31       22    70.97\n",
      "Max Coefficient p-value             < 0.05     31       29    93.55\n",
      "Max VIF Value                       < 7.50     31       31   100.00\n",
      "Min Jarque-Bera p-value             > 0.10     31        0     0.00\n",
      "Min Spatial Autocorrelation p-value > 0.10     14        0     0.00\n",
      "\n",
      "------------------------------------------------------------------------------\n",
      "\n",
      "         Summary of Variable Significance        \n",
      "Variable         % Significant % Negative % Positive\n",
      "PRECIPITATION           100.00       0.00     100.00\n",
      "SOILPRODUCTIVITY        100.00     100.00       0.00\n",
      "POPULATION              100.00     100.00       0.00\n",
      "SLOPE                   100.00       0.00     100.00\n",
      "PERCENTPOVERTY           87.50       6.25      93.75\n",
      "\n",
      "------------------------------------------------------------------------------\n",
      "\n",
      "      Summary of Multicollinearity      \n",
      "Variable          VIF Violations Covariates\n",
      "PRECIPITATION    1.29          0 --------  \n",
      "SOILPRODUCTIVITY 2.09          0 --------  \n",
      "POPULATION       1.21          0 --------  \n",
      "PERCENTPOVERTY   1.13          0 --------  \n",
      "SLOPE            2.44          0 --------  \n",
      "\n",
      "------------------------------------------------------------------------------\n",
      "\n",
      "                                               Summary of Residual Normality (JB)                                               \n",
      "      JB    AdjR2         AICc    K(BP)      VIF       SA   Model                                                                     \n",
      "0.001149 0.664657 71628.379576 0.000000 2.263522 0.000000  -SOILPRODUCTIVITY***  -POPULATION***  +PERCENTPOVERTY  +SLOPE***           \n",
      "0.000963 0.664659 71627.309930 0.000000 2.184825 0.000000  -SOILPRODUCTIVITY***  -POPULATION***  +SLOPE***                            \n",
      "0.000017 0.599238 73124.478639 0.000000 1.301627 0.000000  +PRECIPITATION***  -SOILPRODUCTIVITY***  -POPULATION***  +PERCENTPOVERTY***\n",
      "\n",
      "------------------------------------------------------------------------------\n",
      "\n",
      "                                              Summary of Residual Spatial Autocorrelation (SA)                                             \n",
      "      SA    AdjR2         AICc       JB    K(BP)      VIF   Model                                                                                \n",
      "0.000000 0.684115 71127.551783 0.000000 0.000000 2.435458  +PRECIPITATION***  -SOILPRODUCTIVITY***  -POPULATION***  +PERCENTPOVERTY***  +SLOPE***\n",
      "0.000000 0.683466 71143.780011 0.000000 0.000000 2.321574  +PRECIPITATION***  -SOILPRODUCTIVITY***  -POPULATION***  +SLOPE***                    \n",
      "0.000000 0.664659 71627.309930 0.000963 0.000000 2.184825  -SOILPRODUCTIVITY***  -POPULATION***  +SLOPE***                                       \n",
      "\n",
      "------------------------------------------------------------------------------\n",
      "                    Table Abbreviations                     \n",
      "AdjR2 Adjusted R-Squared                                     \n",
      "AICc  Akaike's Information Criterion                         \n",
      "JB    Jarque-Bera p-value                                    \n",
      "K(BP) Koenker (BP) Statistic p-value                         \n",
      "VIF   Max Variance Inflation Factor                          \n",
      "SA    Global Moran's I p-value                               \n",
      "Model Variable sign (+/-)                                    \n",
      "Model Variable significance (* = 0.10; ** = 0.05; *** = 0.01)\n",
      "------------------------------------------------------------------------------\n"
     ]
    }
   ],
   "source": [
    "# Print Output Report File\n",
    "with open('/Users/mattiegisselbeck/Desktop/OutputReportFile.txt', 'r') as file:\n",
    "    content = file.read()\n",
    "    print(content)"
   ],
   "metadata": {
    "collapsed": false
   }
  },
  {
   "cell_type": "markdown",
   "source": [
    "1.2 Spatial Autocorrelation (Global Moran's I) `arcpy`\n",
    "\n",
    "Spatial Autocorrelation (Global Moran's) was performed to assess the spatial autocorrelation of forest cover, taking into account nearest neighbor interactions. In this context, obtaining a \"random\" outcome is desirable, as it indicates that the residuals are uncorrelated. Conversely, a \"random\" result suggests that forest cover in one region of Puerto Rico is dependent on the surrounding forest cover."
   ],
   "metadata": {
    "collapsed": false
   }
  },
  {
   "cell_type": "code",
   "execution_count": null,
   "outputs": [],
   "source": [
    "# Run Spatial Autocorrelation\n",
    "arcpy.stats.SpatialAutocorrelation(\n",
    "    Input_Feature_Class=\"PuertoRico_1km\",\n",
    "    Input_Field=\"ForestCover\",\n",
    "    Conceptualization_of_Spatial_Relationships=\"INVERSE_DISTANCE\",\n",
    "    Distance_Method=\"EUCLIDEAN_DISTANCE\",\n",
    "    Standardization=\"ROW\",\n",
    "    Distance_Band_or_Threshold_Distance=None,\n",
    "    Weights_Matrix_File=None,\n",
    "    number_of_neighbors=None\n",
    ")"
   ],
   "metadata": {
    "collapsed": false
   }
  },
  {
   "cell_type": "markdown",
   "source": [
    "1.2.r Results\n",
    "\n",
    "Global Moran's I Summary\n",
    "\n",
    "| Moran's Index | Expected Index | Variance | Z-Score    | P-Value  |\n",
    "|---------------|----------------|----------|------------|----------|\n",
    "| 0.495739      | -0.000115      | 0.000002 | 388.780561 | 0.000000 |"
   ],
   "metadata": {
    "collapsed": false
   }
  },
  {
   "cell_type": "markdown",
   "source": [
    "1.3 Hot Spot Analysis `scipy`\n",
    "\n",
    "Hot Spot Analysis (Getis-Ord Gi) was used to identify if local areas of forest cover is significantly above or below the island's mean. The results of the Hot Spot Analysis are shown below in Figure 6. The areas marked as hot spots have a greater forest cover than the island's average whereas the cold spots have less forest cover than average."
   ],
   "metadata": {
    "collapsed": false
   }
  },
  {
   "cell_type": "code",
   "execution_count": 15,
   "outputs": [],
   "source": [
    "def hot_spot_analysis(file_path):\n",
    "\n",
    "    # Read the SHP into the Dataframe\n",
    "    puerto_rico_1km_df = gpd.read_file(file_path)\n",
    "\n",
    "    # Extract the Forest Cover Values\n",
    "    forest_cover = puerto_rico_1km_df['Forest2000'].values\n",
    "\n",
    "    # Calculate the Z-Scores for Each Forest Cover Value\n",
    "    z_score = stats.zscore(forest_cover)\n",
    "\n",
    "    # Calculate the P-Values for Each Z-Score using a Two-Tailed Test\n",
    "    p_value = stats.norm.sf(abs(z_score)) * 2\n",
    "\n",
    "    # Create a Dataframe with the Forest Cover Values, Z-Scores, and P-Values\n",
    "    forest_spots_df = pd.DataFrame({\"Forest Cover\": forest_cover, \"Z-Score\": z_score, \"P-Value\": p_value})\n",
    "\n",
    "    # Add a Column Indicating Whether Each Observation is a Hot Spot (1) or a Cold Spot (-1)\n",
    "    forest_spots_df[\"Spot Type\"] = np.where(forest_spots_df[\"Z-Score\"] > 0, 1, -1)\n",
    "\n",
    "    # Save Results\n",
    "    forest_spots_df.to_csv(\"PuertoRico_1km_Spots.csv\", index=False)\n",
    "\n",
    "    df = pd.read_csv('PuertoRico_1km_Spots.csv')\n",
    "    print(df.head())"
   ],
   "metadata": {
    "collapsed": false
   }
  },
  {
   "cell_type": "markdown",
   "source": [
    "1.3.r Results"
   ],
   "metadata": {
    "collapsed": false
   }
  },
  {
   "cell_type": "code",
   "execution_count": 16,
   "outputs": [
    {
     "name": "stdout",
     "output_type": "stream",
     "text": [
      "   Forest Cover   Z-Score   P-Value  Spot Type\n",
      "0     59.797578  0.285049  0.775607          1\n",
      "1     60.943772  0.322997  0.746698          1\n",
      "2     37.321799 -0.459083  0.646174         -1\n",
      "3     26.346021 -0.822471  0.410809         -1\n",
      "4     41.185986 -0.331147  0.740533         -1\n"
     ]
    }
   ],
   "source": [
    "# Perform Hot Spot Analysis\n",
    "hot_spot_analysis('/Users/mattiegisselbeck/Desktop/PuertoRico_1km.shp')"
   ],
   "metadata": {
    "collapsed": false
   }
  },
  {
   "cell_type": "markdown",
   "source": [
    "1.4 Random Forest Model `scikit-learn`\n",
    "\n",
    "Insert Text Here"
   ],
   "metadata": {
    "collapsed": false
   }
  },
  {
   "cell_type": "code",
   "execution_count": 12,
   "outputs": [],
   "source": [
    "def random_forest_model(file_path):\n",
    "\n",
    "    # Read the CSV file into a DataFrame\n",
    "    puerto_rico_1km_df = pd.read_csv(file_path)\n",
    "\n",
    "    # Define Columns\n",
    "    forest_transition_columns = ['ObjectID', 'Precipitation', 'SoilProductivity', 'Population',\n",
    "           'ForestCover', 'TreeGain', 'TreeLoss', 'Friction',\n",
    "           'ProtectionLevel', 'Elevation', 'PctPoverty', 'Slope']\n",
    "\n",
    "    # Extract Columns and Drop Any Rows with Missing Values\n",
    "    forest_transition_df = puerto_rico_1km_df[forest_transition_columns].dropna()\n",
    "\n",
    "    # Split the Dataset into the Features (X) and the Target (y)\n",
    "    X = forest_transition_df.drop(\"ObjectID\", axis = 1).drop(\"ForestCover\", axis = 1)\n",
    "    y = forest_transition_df[\"ForestCover\"]\n",
    "\n",
    "    # Split the Dataset into Training and Testing Sets\n",
    "    X_train, X_test, y_train, y_test = train_test_split(X, y, test_size=0.2, random_state=42)\n",
    "\n",
    "    # Fit a Random Forest Regression Model to the Training Set\n",
    "    random_forest_model = RandomForestRegressor(n_estimators=100, random_state=42)\n",
    "    random_forest_model.fit(X_train, y_train)\n",
    "\n",
    "    # Make Predictions on the Test Set and Evaluate the Model\n",
    "    y_test_predicted = random_forest_model.predict(X_test)\n",
    "    mse = mean_squared_error(y_test, y_test_predicted)\n",
    "    r2 = r2_score(y_test, y_test_predicted)\n",
    "\n",
    "    # Print the Model Evaluation Metrics\n",
    "    print(\"Random Forest Model Evaluation\")\n",
    "    print(f\"MSE: {mse:.2f}\")\n",
    "    print(f\"r2: {r2:.2f}\")"
   ],
   "metadata": {
    "collapsed": false
   }
  },
  {
   "cell_type": "markdown",
   "source": [
    "1.4.r Results"
   ],
   "metadata": {
    "collapsed": false
   }
  },
  {
   "cell_type": "code",
   "execution_count": 14,
   "outputs": [
    {
     "name": "stdout",
     "output_type": "stream",
     "text": [
      "Random Forest Model Evaluation\n",
      "MSE: 157.36\n",
      "r2: 0.83\n"
     ]
    }
   ],
   "source": [
    "# Run Random Forest Model\n",
    "random_forest_model(\"/Users/mattiegisselbeck/Documents/GitHub/puerto-rico-forest-transition/data/PR_1km.csv\")"
   ],
   "metadata": {
    "collapsed": false
   }
  },
  {
   "cell_type": "markdown",
   "source": [
    "1.5 Generalized Linear Regression (GLR) `statsmodels.api` `scikit-learn`\n",
    "\n",
    "A Generalized Linear Regression was performed using `statsmodels.api` to examine the relationship between the independent variables and the dependent variable."
   ],
   "metadata": {
    "collapsed": false
   }
  },
  {
   "cell_type": "code",
   "execution_count": 16,
   "outputs": [],
   "source": [
    "# Set Dataframe\n",
    "puerto_rico_1km_df = gpd.read_file('/Users/mattiegisselbeck/Desktop/PuertoRico_1km.shp')\n",
    "\n",
    "# Define Independent Variables\n",
    "X_1km_columns = ['Precip', 'Soil', 'Settlement',\n",
    "       'Protected', 'Elevation', 'Friction', 'PctPov', 'Slope']\n",
    "\n",
    "X_1km = puerto_rico_1km_df[X_1km_columns]\n",
    "\n",
    "# Define Dependent Variable\n",
    "y_1km = puerto_rico_1km_df['Forest2000']\n",
    "\n",
    "# Fit GLR Model for 1km Fishnet Dataset\n",
    "X_1km = sm.add_constant(X_1km)\n",
    "model_1km = sm.GLM(y_1km, X_1km, family=sm.families.Gaussian())\n",
    "result_1km = model_1km.fit()"
   ],
   "metadata": {
    "collapsed": false
   }
  },
  {
   "cell_type": "markdown",
   "source": [
    "1.5.r Results"
   ],
   "metadata": {
    "collapsed": false
   }
  },
  {
   "cell_type": "code",
   "execution_count": 17,
   "outputs": [
    {
     "data": {
      "text/plain": "<class 'statsmodels.iolib.summary.Summary'>\n\"\"\"\n                 Generalized Linear Model Regression Results                  \n==============================================================================\nDep. Variable:             Forest2000   No. Observations:                 8682\nModel:                            GLM   Df Residuals:                     8673\nModel Family:                Gaussian   Df Model:                            8\nLink Function:               identity   Scale:                          285.39\nMethod:                          IRLS   Log-Likelihood:                -36858.\nDate:                Thu, 27 Apr 2023   Deviance:                   2.4752e+06\nTime:                        11:32:12   Pearson chi2:                 2.48e+06\nNo. Iterations:                     3   Pseudo R-squ. (CS):             0.8889\nCovariance Type:            nonrobust                                         \n==============================================================================\n                 coef    std err          z      P>|z|      [0.025      0.975]\n------------------------------------------------------------------------------\nconst          9.2188      1.619      5.695      0.000       6.046      12.391\nPrecip         0.0174      0.001     26.557      0.000       0.016       0.019\nSoil          -0.0439      0.002    -21.073      0.000      -0.048      -0.040\nSettlement    -0.1160      0.004    -27.981      0.000      -0.124      -0.108\nProtected      4.6288      0.280     16.541      0.000       4.080       5.177\nElevation     -0.0097      0.001     -7.347      0.000      -0.012      -0.007\nFriction       0.0003      0.000      2.478      0.013    6.72e-05       0.001\nPctPov         0.0680      0.016      4.202      0.000       0.036       0.100\nSlope          2.5449      0.058     44.006      0.000       2.432       2.658\n==============================================================================\n\"\"\"",
      "text/html": "<table class=\"simpletable\">\n<caption>Generalized Linear Model Regression Results</caption>\n<tr>\n  <th>Dep. Variable:</th>      <td>Forest2000</td>    <th>  No. Observations:  </th>   <td>  8682</td>  \n</tr>\n<tr>\n  <th>Model:</th>                  <td>GLM</td>       <th>  Df Residuals:      </th>   <td>  8673</td>  \n</tr>\n<tr>\n  <th>Model Family:</th>        <td>Gaussian</td>     <th>  Df Model:          </th>   <td>     8</td>  \n</tr>\n<tr>\n  <th>Link Function:</th>       <td>identity</td>     <th>  Scale:             </th>  <td>  285.39</td> \n</tr>\n<tr>\n  <th>Method:</th>                <td>IRLS</td>       <th>  Log-Likelihood:    </th>  <td> -36858.</td> \n</tr>\n<tr>\n  <th>Date:</th>            <td>Thu, 27 Apr 2023</td> <th>  Deviance:          </th> <td>2.4752e+06</td>\n</tr>\n<tr>\n  <th>Time:</th>                <td>11:32:12</td>     <th>  Pearson chi2:      </th>  <td>2.48e+06</td> \n</tr>\n<tr>\n  <th>No. Iterations:</th>          <td>3</td>        <th>  Pseudo R-squ. (CS):</th>   <td>0.8889</td>  \n</tr>\n<tr>\n  <th>Covariance Type:</th>     <td>nonrobust</td>    <th>                     </th>      <td> </td>    \n</tr>\n</table>\n<table class=\"simpletable\">\n<tr>\n       <td></td>         <th>coef</th>     <th>std err</th>      <th>z</th>      <th>P>|z|</th>  <th>[0.025</th>    <th>0.975]</th>  \n</tr>\n<tr>\n  <th>const</th>      <td>    9.2188</td> <td>    1.619</td> <td>    5.695</td> <td> 0.000</td> <td>    6.046</td> <td>   12.391</td>\n</tr>\n<tr>\n  <th>Precip</th>     <td>    0.0174</td> <td>    0.001</td> <td>   26.557</td> <td> 0.000</td> <td>    0.016</td> <td>    0.019</td>\n</tr>\n<tr>\n  <th>Soil</th>       <td>   -0.0439</td> <td>    0.002</td> <td>  -21.073</td> <td> 0.000</td> <td>   -0.048</td> <td>   -0.040</td>\n</tr>\n<tr>\n  <th>Settlement</th> <td>   -0.1160</td> <td>    0.004</td> <td>  -27.981</td> <td> 0.000</td> <td>   -0.124</td> <td>   -0.108</td>\n</tr>\n<tr>\n  <th>Protected</th>  <td>    4.6288</td> <td>    0.280</td> <td>   16.541</td> <td> 0.000</td> <td>    4.080</td> <td>    5.177</td>\n</tr>\n<tr>\n  <th>Elevation</th>  <td>   -0.0097</td> <td>    0.001</td> <td>   -7.347</td> <td> 0.000</td> <td>   -0.012</td> <td>   -0.007</td>\n</tr>\n<tr>\n  <th>Friction</th>   <td>    0.0003</td> <td>    0.000</td> <td>    2.478</td> <td> 0.013</td> <td> 6.72e-05</td> <td>    0.001</td>\n</tr>\n<tr>\n  <th>PctPov</th>     <td>    0.0680</td> <td>    0.016</td> <td>    4.202</td> <td> 0.000</td> <td>    0.036</td> <td>    0.100</td>\n</tr>\n<tr>\n  <th>Slope</th>      <td>    2.5449</td> <td>    0.058</td> <td>   44.006</td> <td> 0.000</td> <td>    2.432</td> <td>    2.658</td>\n</tr>\n</table>"
     },
     "execution_count": 17,
     "metadata": {},
     "output_type": "execute_result"
    }
   ],
   "source": [
    "result_1km.summary()"
   ],
   "metadata": {
    "collapsed": false
   }
  },
  {
   "cell_type": "markdown",
   "source": [
    "1.6 Linear Regression, Lasso, Ridge, Decision Tree Regression, Random Forest Regression, and XGBoost Regression `scikit-learn` `xgboost`\n",
    "\n",
    "A five-fold cross-validation was used to determine the performance of each model on the forest transition training set. Each model was fitted on the entire training set and was evaluated by its performance on the test set. The results are shown in 1.6.r."
   ],
   "metadata": {
    "collapsed": false
   }
  },
  {
   "cell_type": "code",
   "execution_count": 11,
   "outputs": [
    {
     "name": "stdout",
     "output_type": "stream",
     "text": [
      "LinearRegression r2: 0.73 (+/- 0.03)\n",
      "LinearRegression Test Accuracy: 0.72\n",
      "Lasso r2: 0.70 (+/- 0.04)\n",
      "Lasso Test Accuracy: 0.69\n",
      "Ridge r2: 0.73 (+/- 0.03)\n",
      "Ridge Test Accuracy: 0.72\n",
      "DecisionTreeRegressor r2: 0.62 (+/- 0.05)\n",
      "DecisionTreeRegressor Test Accuracy: 0.65\n",
      "RandomForestRegressor r2: 0.82 (+/- 0.02)\n",
      "RandomForestRegressor Test Accuracy: 0.83\n",
      "XGBRegressor r2: 0.82 (+/- 0.02)\n",
      "XGBRegressor Test Accuracy: 0.83\n"
     ]
    }
   ],
   "source": [
    "# Set Dataframe\n",
    "puerto_rico_1km_df = pd.read_csv('/Users/mattiegisselbeck/Documents/GitHub/puerto-rico-forest-transition/data/PR_1km.csv')\n",
    "\n",
    "# Define Columns\n",
    "forest_transition_columns = ['ObjectID', 'Precipitation', 'SoilProductivity', 'Population',\n",
    "           'ForestCover', 'TreeGain', 'TreeLoss', 'Friction',\n",
    "           'ProtectionLevel', 'Elevation', 'PctPoverty', 'Slope']\n",
    "\n",
    "# Extract Columns and Drop Any Rows with Missing Values\n",
    "forest_transition_df = puerto_rico_1km_df[forest_transition_columns].dropna()\n",
    "\n",
    "# Split the Dataset into the Features (X) and the Target (y)\n",
    "X = forest_transition_df.drop(\"ObjectID\", axis = 1).drop(\"ForestCover\", axis = 1)\n",
    "y = forest_transition_df[\"ForestCover\"]\n",
    "\n",
    "# Split the Dataset into Training and Testing Sets\n",
    "X_train, X_test, y_train, y_test = train_test_split(X, y, test_size=0.2, random_state=42)\n",
    "\n",
    "# Define the Models\n",
    "models = [\n",
    "    LinearRegression(),\n",
    "    Lasso(),\n",
    "    Ridge(),\n",
    "    DecisionTreeRegressor(),\n",
    "    RandomForestRegressor(),\n",
    "    XGBRegressor()\n",
    "]\n",
    "\n",
    "# Evaluate the Models using Cross-Validation\n",
    "for model in models:\n",
    "    scores = cross_val_score(model, X_train, y_train, cv=5)\n",
    "    print(f\"{type(model).__name__} r2: %0.2f (+/- %0.2f)\" % (scores.mean(), scores.std() * 2))\n",
    "\n",
    "    # Fit the Model(s) and Evaluate on the Test Set\n",
    "    model.fit(X_train, y_train)\n",
    "    y_pred = model.predict(X_test)\n",
    "    r2 = r2_score(y_test, y_pred)\n",
    "    print(f\"{type(model).__name__} Test Accuracy: {r2:.2f}\")"
   ],
   "metadata": {
    "collapsed": false
   }
  },
  {
   "cell_type": "markdown",
   "source": [
    "1.6.r Results"
   ],
   "metadata": {
    "collapsed": false
   }
  },
  {
   "cell_type": "code",
   "execution_count": 20,
   "outputs": [
    {
     "name": "stdout",
     "output_type": "stream",
     "text": [
      "Random Forest Model Evaluation\n",
      "r2: 0.83\n"
     ]
    }
   ],
   "source": [
    "print(\"Random Forest Model Evaluation\")\n",
    "print(f\"r2: {r2:.2f}\")"
   ],
   "metadata": {
    "collapsed": false
   }
  }
 ],
 "metadata": {
  "language_info": {
   "name": "python"
  }
 },
 "nbformat": 4,
 "nbformat_minor": 1
}
